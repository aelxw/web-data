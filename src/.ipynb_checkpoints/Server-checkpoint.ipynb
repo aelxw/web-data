{
 "cells": [
  {
   "cell_type": "code",
   "execution_count": 1,
   "metadata": {},
   "outputs": [],
   "source": [
    "import WebData as wd"
   ]
  },
  {
   "cell_type": "code",
   "execution_count": 137,
   "metadata": {},
   "outputs": [
    {
     "name": "stderr",
     "output_type": "stream",
     "text": [
      " * Running on http://127.0.0.1:9999/ (Press CTRL+C to quit)\n",
      "127.0.0.1 - - [21/Aug/2018 20:43:11] \"GET /settlement?date=20180817 HTTP/1.1\" 200 -\n",
      "127.0.0.1 - - [21/Aug/2018 20:45:28] \"GET /weather?date=20180820 HTTP/1.1\" 200 -\n",
      "127.0.0.1 - - [21/Aug/2018 20:46:02] \"GET /weather?date=20180813 HTTP/1.1\" 200 -\n",
      "127.0.0.1 - - [21/Aug/2018 20:46:18] \"GET /weather?date=20180812 HTTP/1.1\" 200 -\n"
     ]
    }
   ],
   "source": [
    "from flask import Flask, request, jsonify\n",
    "\n",
    "app = Flask(__name__)\n",
    "\n",
    "@app.route('/settlement', methods=[\"GET\"])\n",
    "def get_settlement():\n",
    "    try:\n",
    "        date = request.args.get(\"date\")\n",
    "        df = wd.settlement(date)\n",
    "        return df.to_json(orient=\"records\")\n",
    "        \n",
    "    except:\n",
    "        res = {\"pythonError\":traceback.format_exc()}\n",
    "        return jsonify(res)\n",
    "    \n",
    "@app.route('/hoep', methods=[\"GET\"])\n",
    "def get_hoep():\n",
    "    try:\n",
    "        date = request.args.get(\"date\")\n",
    "        df = wd.hoep(date)\n",
    "        return df.to_json(orient=\"records\")\n",
    "    \n",
    "    except:\n",
    "        res = {\"pythonError\":traceback.format_exc()}\n",
    "        return jsonify(res)\n",
    "    \n",
    "@app.route('/gen', methods=[\"GET\"])\n",
    "def get_gen():\n",
    "    try:\n",
    "        date = request.args.get(\"date\")\n",
    "        df = wd.gen(date)\n",
    "        return df.to_json(orient=\"records\")\n",
    "    \n",
    "    except:\n",
    "        res = {\"pythonError\":traceback.format_exc()}\n",
    "        return jsonify(res)\n",
    "    \n",
    "@app.route('/weather', methods=[\"GET\"])\n",
    "def get_weather():\n",
    "    try:\n",
    "        month = request.args.get(\"date\")\n",
    "        df = wd.weather(month)\n",
    "        return df.to_json(orient=\"records\")\n",
    "    \n",
    "    except:\n",
    "        res = {\"pythonError\":traceback.format_exc()}\n",
    "        return jsonify(res)\n",
    "\n",
    "@app.after_request\n",
    "def addCORS(response):\n",
    "    response.headers.add(\"Access-Control-Allow-Origin\", \"*\")\n",
    "    response.headers.add(\"Access-Control-Allow-Methods\", \"GET, POST, OPTIONS, PUT\")\n",
    "    response.headers.add(\"Access-Control-Allow-Headers\", \"Content-Type\")\n",
    "    response.headers.add(\"Access-Control-Max-Age\", \"3600\")\n",
    "    response.headers.add(\"Access-Control-Request-Headers\", \"Content-Type\")\n",
    "    return response\n",
    "    \n",
    "@app.route('/shutdown', methods=[\"GET\"])\n",
    "def fn_shutdown():\n",
    "    if request.method == \"GET\":\n",
    "        request.environ.get('werkzeug.server.shutdown')()\n",
    "        return \"Server shutting down...\"\n",
    "\n",
    "app.run(port=9999)"
   ]
  }
 ],
 "metadata": {
  "kernelspec": {
   "display_name": "Python 3",
   "language": "python",
   "name": "python3"
  },
  "language_info": {
   "codemirror_mode": {
    "name": "ipython",
    "version": 3
   },
   "file_extension": ".py",
   "mimetype": "text/x-python",
   "name": "python",
   "nbconvert_exporter": "python",
   "pygments_lexer": "ipython3",
   "version": "3.6.2"
  }
 },
 "nbformat": 4,
 "nbformat_minor": 2
}
