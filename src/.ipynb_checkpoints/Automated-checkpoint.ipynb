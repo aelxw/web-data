{
 "cells": [
  {
   "cell_type": "code",
   "execution_count": 74,
   "metadata": {},
   "outputs": [],
   "source": [
    "import WebData as wd\n",
    "import sys\n",
    "import pandas as pd"
   ]
  },
  {
   "cell_type": "code",
   "execution_count": 77,
   "metadata": {},
   "outputs": [],
   "source": [
    "folderpath = \"C:/Users/Alexander/Jupyter/Aegent/archive/\"\n",
    "yyyymmdd = sys.argv[1]\n",
    "filename = sys.argv[2]"
   ]
  },
  {
   "cell_type": "code",
   "execution_count": 78,
   "metadata": {},
   "outputs": [],
   "source": [
    "if(filename == \"weather\"):\n",
    "    filepath = folderpath + \"/weather/weather_{}.csv\".format(yyyymmdd)\n",
    "    wd.weather(yyyymmdd).to_csv(filepath, index=False)\n",
    "if(filename == \"hoep\"):\n",
    "    filepath = folderpath + \"/hoep/hoep_{}.csv\".format(yyyymmdd)\n",
    "    wd.hoep(yyyymmdd).to_csv(filepath, index=False)\n",
    "if(filename == \"settlement\"):\n",
    "    filepath = folderpath + \"/settlement/settlement_{}.csv\".format(yyyymmdd)\n",
    "    wd.settlement(yyyymmdd).to_csv(filepath, index=False)\n",
    "if(filename == \"gen\"):\n",
    "    filepath = folderpath + \"/gen/gen_{}.csv\".format(yyyymmdd)\n",
    "    wd.gen(yyyymmdd).to_csv(filepath, index=False)"
   ]
  }
 ],
 "metadata": {
  "kernelspec": {
   "display_name": "Python 3",
   "language": "python",
   "name": "python3"
  },
  "language_info": {
   "codemirror_mode": {
    "name": "ipython",
    "version": 3
   },
   "file_extension": ".py",
   "mimetype": "text/x-python",
   "name": "python",
   "nbconvert_exporter": "python",
   "pygments_lexer": "ipython3",
   "version": "3.6.2"
  }
 },
 "nbformat": 4,
 "nbformat_minor": 2
}
