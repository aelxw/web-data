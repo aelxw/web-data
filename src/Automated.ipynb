{
 "cells": [
  {
   "cell_type": "code",
   "execution_count": 1,
   "metadata": {},
   "outputs": [],
   "source": [
    "import WebData as wd\n",
    "import sys\n",
    "import pandas as pd\n",
    "import datetime\n",
    "from datetime import datetime as dt"
   ]
  },
  {
   "cell_type": "code",
   "execution_count": null,
   "metadata": {},
   "outputs": [],
   "source": [
    "folderpath = \"T:/Web Data/\"\n",
    "filename = sys.argv[1]\n",
    "\n",
    "today = dt.today().strftime(\"%Y%m%d\")\n",
    "yesterday = (dt.today() - datetime.timedelta(days=1)).strftime(\"%Y%m%d\")\n",
    "\n",
    "if(filename == \"weather\"):\n",
    "    filepath = folderpath + \"weather/weather_{}.csv\".format(yesterday)\n",
    "    wd.weather(yesterday).to_csv(filepath, index=False)\n",
    "if(filename == \"hoep\"):\n",
    "    filepath = folderpath + \"hoep/hoep_{}.csv\".format(yesterday)\n",
    "    wd.hoep(yesterday).to_csv(filepath, index=False)\n",
    "if(filename == \"settlement\"):\n",
    "    filepath = folderpath + \"settlement/settlement_{}.csv\".format(today)\n",
    "    wd.settlement(today).to_csv(filepath, index=False)\n",
    "if(filename == \"gen\"):\n",
    "    filepath = folderpath + \"gen/gen_{}.csv\".format(yesterday)\n",
    "    wd.gen(yesterday).to_csv(filepath, index=False)\n",
    "if(filename == \"ngxrate\"):\n",
    "    filepath = folderpath + \"ngxrate/ngxrate_{}.csv\".format(today)\n",
    "    wd.ngx_rate_today().to_csv(filepath, index=False)"
   ]
  }
 ],
 "metadata": {
  "kernelspec": {
   "display_name": "Python 3",
   "language": "python",
   "name": "python3"
  },
  "language_info": {
   "codemirror_mode": {
    "name": "ipython",
    "version": 3
   },
   "file_extension": ".py",
   "mimetype": "text/x-python",
   "name": "python",
   "nbconvert_exporter": "python",
   "pygments_lexer": "ipython3",
   "version": "3.6.2"
  }
 },
 "nbformat": 4,
 "nbformat_minor": 2
}
